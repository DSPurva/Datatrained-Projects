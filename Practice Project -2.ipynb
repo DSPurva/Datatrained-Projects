{
 "cells": [
  {
   "cell_type": "markdown",
   "id": "80096177",
   "metadata": {},
   "source": [
    "# Practice Project -2"
   ]
  },
  {
   "cell_type": "markdown",
   "id": "cbe31ddc",
   "metadata": {},
   "source": [
    "# Salary Project"
   ]
  },
  {
   "cell_type": "code",
   "execution_count": 1,
   "id": "1c821813",
   "metadata": {
    "scrolled": true
   },
   "outputs": [],
   "source": [
    "import pandas as pd\n",
    "import numpy as np\n",
    "import scipy\n",
    "import sklearn\n",
    "import seaborn as sns\n",
    "import matplotlib.pyplot as plt\n",
    "\n",
    "from sklearn.model_selection import train_test_split\n",
    "from sklearn.linear_model import LinearRegression\n",
    "from sklearn.metrics import mean_squared_error, mean_absolute_error, r2_score\n",
    "from sklearn.preprocessing import LabelEncoder\n",
    "from sklearn.preprocessing import StandardScaler\n",
    "\n",
    "import warnings\n",
    "warnings.filterwarnings('ignore')"
   ]
  },
  {
   "cell_type": "code",
   "execution_count": 2,
   "id": "87e798e7",
   "metadata": {
    "scrolled": true
   },
   "outputs": [
    {
     "data": {
      "text/html": [
       "<div>\n",
       "<style scoped>\n",
       "    .dataframe tbody tr th:only-of-type {\n",
       "        vertical-align: middle;\n",
       "    }\n",
       "\n",
       "    .dataframe tbody tr th {\n",
       "        vertical-align: top;\n",
       "    }\n",
       "\n",
       "    .dataframe thead th {\n",
       "        text-align: right;\n",
       "    }\n",
       "</style>\n",
       "<table border=\"1\" class=\"dataframe\">\n",
       "  <thead>\n",
       "    <tr style=\"text-align: right;\">\n",
       "      <th></th>\n",
       "      <th>rank</th>\n",
       "      <th>discipline</th>\n",
       "      <th>yrs.since.phd</th>\n",
       "      <th>yrs.service</th>\n",
       "      <th>sex</th>\n",
       "      <th>salary</th>\n",
       "    </tr>\n",
       "  </thead>\n",
       "  <tbody>\n",
       "    <tr>\n",
       "      <th>0</th>\n",
       "      <td>Prof</td>\n",
       "      <td>B</td>\n",
       "      <td>19</td>\n",
       "      <td>18</td>\n",
       "      <td>Male</td>\n",
       "      <td>139750</td>\n",
       "    </tr>\n",
       "    <tr>\n",
       "      <th>1</th>\n",
       "      <td>Prof</td>\n",
       "      <td>B</td>\n",
       "      <td>20</td>\n",
       "      <td>16</td>\n",
       "      <td>Male</td>\n",
       "      <td>173200</td>\n",
       "    </tr>\n",
       "    <tr>\n",
       "      <th>2</th>\n",
       "      <td>AsstProf</td>\n",
       "      <td>B</td>\n",
       "      <td>4</td>\n",
       "      <td>3</td>\n",
       "      <td>Male</td>\n",
       "      <td>79750</td>\n",
       "    </tr>\n",
       "    <tr>\n",
       "      <th>3</th>\n",
       "      <td>Prof</td>\n",
       "      <td>B</td>\n",
       "      <td>45</td>\n",
       "      <td>39</td>\n",
       "      <td>Male</td>\n",
       "      <td>115000</td>\n",
       "    </tr>\n",
       "    <tr>\n",
       "      <th>4</th>\n",
       "      <td>Prof</td>\n",
       "      <td>B</td>\n",
       "      <td>40</td>\n",
       "      <td>41</td>\n",
       "      <td>Male</td>\n",
       "      <td>141500</td>\n",
       "    </tr>\n",
       "  </tbody>\n",
       "</table>\n",
       "</div>"
      ],
      "text/plain": [
       "       rank discipline  yrs.since.phd  yrs.service   sex  salary\n",
       "0      Prof          B             19           18  Male  139750\n",
       "1      Prof          B             20           16  Male  173200\n",
       "2  AsstProf          B              4            3  Male   79750\n",
       "3      Prof          B             45           39  Male  115000\n",
       "4      Prof          B             40           41  Male  141500"
      ]
     },
     "execution_count": 2,
     "metadata": {},
     "output_type": "execute_result"
    }
   ],
   "source": [
    "df = pd.read_csv('https://raw.githubusercontent.com/dsrscientist/dataset3/main/Salaries.csv')\n",
    "df.head()"
   ]
  },
  {
   "cell_type": "code",
   "execution_count": 3,
   "id": "8eb3d878",
   "metadata": {
    "scrolled": true
   },
   "outputs": [
    {
     "data": {
      "text/html": [
       "<div>\n",
       "<style scoped>\n",
       "    .dataframe tbody tr th:only-of-type {\n",
       "        vertical-align: middle;\n",
       "    }\n",
       "\n",
       "    .dataframe tbody tr th {\n",
       "        vertical-align: top;\n",
       "    }\n",
       "\n",
       "    .dataframe thead th {\n",
       "        text-align: right;\n",
       "    }\n",
       "</style>\n",
       "<table border=\"1\" class=\"dataframe\">\n",
       "  <thead>\n",
       "    <tr style=\"text-align: right;\">\n",
       "      <th></th>\n",
       "      <th>rank</th>\n",
       "      <th>discipline</th>\n",
       "      <th>yrs.since.phd</th>\n",
       "      <th>yrs.service</th>\n",
       "      <th>sex</th>\n",
       "      <th>salary</th>\n",
       "    </tr>\n",
       "  </thead>\n",
       "  <tbody>\n",
       "    <tr>\n",
       "      <th>0</th>\n",
       "      <td>Prof</td>\n",
       "      <td>B</td>\n",
       "      <td>19</td>\n",
       "      <td>18</td>\n",
       "      <td>Male</td>\n",
       "      <td>139750</td>\n",
       "    </tr>\n",
       "    <tr>\n",
       "      <th>1</th>\n",
       "      <td>Prof</td>\n",
       "      <td>B</td>\n",
       "      <td>20</td>\n",
       "      <td>16</td>\n",
       "      <td>Male</td>\n",
       "      <td>173200</td>\n",
       "    </tr>\n",
       "    <tr>\n",
       "      <th>2</th>\n",
       "      <td>AsstProf</td>\n",
       "      <td>B</td>\n",
       "      <td>4</td>\n",
       "      <td>3</td>\n",
       "      <td>Male</td>\n",
       "      <td>79750</td>\n",
       "    </tr>\n",
       "    <tr>\n",
       "      <th>3</th>\n",
       "      <td>Prof</td>\n",
       "      <td>B</td>\n",
       "      <td>45</td>\n",
       "      <td>39</td>\n",
       "      <td>Male</td>\n",
       "      <td>115000</td>\n",
       "    </tr>\n",
       "    <tr>\n",
       "      <th>4</th>\n",
       "      <td>Prof</td>\n",
       "      <td>B</td>\n",
       "      <td>40</td>\n",
       "      <td>41</td>\n",
       "      <td>Male</td>\n",
       "      <td>141500</td>\n",
       "    </tr>\n",
       "    <tr>\n",
       "      <th>...</th>\n",
       "      <td>...</td>\n",
       "      <td>...</td>\n",
       "      <td>...</td>\n",
       "      <td>...</td>\n",
       "      <td>...</td>\n",
       "      <td>...</td>\n",
       "    </tr>\n",
       "    <tr>\n",
       "      <th>392</th>\n",
       "      <td>Prof</td>\n",
       "      <td>A</td>\n",
       "      <td>33</td>\n",
       "      <td>30</td>\n",
       "      <td>Male</td>\n",
       "      <td>103106</td>\n",
       "    </tr>\n",
       "    <tr>\n",
       "      <th>393</th>\n",
       "      <td>Prof</td>\n",
       "      <td>A</td>\n",
       "      <td>31</td>\n",
       "      <td>19</td>\n",
       "      <td>Male</td>\n",
       "      <td>150564</td>\n",
       "    </tr>\n",
       "    <tr>\n",
       "      <th>394</th>\n",
       "      <td>Prof</td>\n",
       "      <td>A</td>\n",
       "      <td>42</td>\n",
       "      <td>25</td>\n",
       "      <td>Male</td>\n",
       "      <td>101738</td>\n",
       "    </tr>\n",
       "    <tr>\n",
       "      <th>395</th>\n",
       "      <td>Prof</td>\n",
       "      <td>A</td>\n",
       "      <td>25</td>\n",
       "      <td>15</td>\n",
       "      <td>Male</td>\n",
       "      <td>95329</td>\n",
       "    </tr>\n",
       "    <tr>\n",
       "      <th>396</th>\n",
       "      <td>AsstProf</td>\n",
       "      <td>A</td>\n",
       "      <td>8</td>\n",
       "      <td>4</td>\n",
       "      <td>Male</td>\n",
       "      <td>81035</td>\n",
       "    </tr>\n",
       "  </tbody>\n",
       "</table>\n",
       "<p>397 rows × 6 columns</p>\n",
       "</div>"
      ],
      "text/plain": [
       "         rank discipline  yrs.since.phd  yrs.service   sex  salary\n",
       "0        Prof          B             19           18  Male  139750\n",
       "1        Prof          B             20           16  Male  173200\n",
       "2    AsstProf          B              4            3  Male   79750\n",
       "3        Prof          B             45           39  Male  115000\n",
       "4        Prof          B             40           41  Male  141500\n",
       "..        ...        ...            ...          ...   ...     ...\n",
       "392      Prof          A             33           30  Male  103106\n",
       "393      Prof          A             31           19  Male  150564\n",
       "394      Prof          A             42           25  Male  101738\n",
       "395      Prof          A             25           15  Male   95329\n",
       "396  AsstProf          A              8            4  Male   81035\n",
       "\n",
       "[397 rows x 6 columns]"
      ]
     },
     "execution_count": 3,
     "metadata": {},
     "output_type": "execute_result"
    }
   ],
   "source": [
    "df"
   ]
  },
  {
   "cell_type": "code",
   "execution_count": 4,
   "id": "fcc9620c",
   "metadata": {
    "scrolled": true
   },
   "outputs": [
    {
     "data": {
      "text/plain": [
       "rank             0\n",
       "discipline       0\n",
       "yrs.since.phd    0\n",
       "yrs.service      0\n",
       "sex              0\n",
       "salary           0\n",
       "dtype: int64"
      ]
     },
     "execution_count": 4,
     "metadata": {},
     "output_type": "execute_result"
    }
   ],
   "source": [
    "df.isnull().sum()    #checking null values"
   ]
  },
  {
   "cell_type": "code",
   "execution_count": 5,
   "id": "8d1a4792",
   "metadata": {
    "scrolled": true
   },
   "outputs": [
    {
     "data": {
      "text/plain": [
       "<AxesSubplot:>"
      ]
     },
     "execution_count": 5,
     "metadata": {},
     "output_type": "execute_result"
    },
    {
     "data": {
      "image/png": "[encoded data removed]",
      "text/plain": [
       "<Figure size 432x288 with 2 Axes>"
      ]
     },
     "metadata": {
      "needs_background": "light"
     },
     "output_type": "display_data"
    }
   ],
   "source": [
    "sns.heatmap(df.isnull())"
   ]
  },
  {
   "cell_type": "code",
   "execution_count": 6,
   "id": "aa8e047b",
   "metadata": {
    "scrolled": true
   },
   "outputs": [
    {
     "data": {
      "text/plain": [
       "rank             object\n",
       "discipline       object\n",
       "yrs.since.phd     int64\n",
       "yrs.service       int64\n",
       "sex              object\n",
       "salary            int64\n",
       "dtype: object"
      ]
     },
     "execution_count": 6,
     "metadata": {},
     "output_type": "execute_result"
    }
   ],
   "source": [
    "df.dtypes  # checking datatypes of columns"
   ]
  },
  {
   "cell_type": "code",
   "execution_count": 7,
   "id": "76f4a9bd",
   "metadata": {
    "scrolled": true
   },
   "outputs": [
    {
     "name": "stdout",
     "output_type": "stream",
     "text": [
      "<class 'pandas.core.frame.DataFrame'>\n",
      "RangeIndex: 397 entries, 0 to 396\n",
      "Data columns (total 6 columns):\n",
      " #   Column         Non-Null Count  Dtype \n",
      "---  ------         --------------  ----- \n",
      " 0   rank           397 non-null    object\n",
      " 1   discipline     397 non-null    object\n",
      " 2   yrs.since.phd  397 non-null    int64 \n",
      " 3   yrs.service    397 non-null    int64 \n",
      " 4   sex            397 non-null    object\n",
      " 5   salary         397 non-null    int64 \n",
      "dtypes: int64(3), object(3)\n",
      "memory usage: 18.7+ KB\n"
     ]
    }
   ],
   "source": [
    "df.info()"
   ]
  },
  {
   "cell_type": "code",
   "execution_count": 8,
   "id": "44344e6b",
   "metadata": {
    "scrolled": true
   },
   "outputs": [
    {
     "data": {
      "text/plain": [
       "Index(['rank', 'discipline', 'yrs.since.phd', 'yrs.service', 'sex', 'salary'], dtype='object')"
      ]
     },
     "execution_count": 8,
     "metadata": {},
     "output_type": "execute_result"
    }
   ],
   "source": [
    "df.columns"
   ]
  },
  {
   "cell_type": "code",
   "execution_count": 9,
   "id": "d56f1f82",
   "metadata": {
    "scrolled": true
   },
   "outputs": [
    {
     "name": "stdout",
     "output_type": "stream",
     "text": [
      "rank - 3\n",
      "discipline - 2\n",
      "yrs.since.phd - 53\n",
      "yrs.service - 52\n",
      "sex - 2\n",
      "salary - 371\n"
     ]
    }
   ],
   "source": [
    "for i in df:\n",
    "    print(i ,'-', df[i].nunique())\n",
    "    \n",
    "# checking the uniques vales in every column"
   ]
  },
  {
   "cell_type": "code",
   "execution_count": 10,
   "id": "179e4353",
   "metadata": {
    "scrolled": true
   },
   "outputs": [
    {
     "data": {
      "text/html": [
       "<div>\n",
       "<style scoped>\n",
       "    .dataframe tbody tr th:only-of-type {\n",
       "        vertical-align: middle;\n",
       "    }\n",
       "\n",
       "    .dataframe tbody tr th {\n",
       "        vertical-align: top;\n",
       "    }\n",
       "\n",
       "    .dataframe thead th {\n",
       "        text-align: right;\n",
       "    }\n",
       "</style>\n",
       "<table border=\"1\" class=\"dataframe\">\n",
       "  <thead>\n",
       "    <tr style=\"text-align: right;\">\n",
       "      <th></th>\n",
       "      <th>rank</th>\n",
       "      <th>discipline</th>\n",
       "      <th>yrs.since.phd</th>\n",
       "      <th>yrs.service</th>\n",
       "      <th>sex</th>\n",
       "      <th>salary</th>\n",
       "    </tr>\n",
       "  </thead>\n",
       "  <tbody>\n",
       "  </tbody>\n",
       "</table>\n",
       "</div>"
      ],
      "text/plain": [
       "Empty DataFrame\n",
       "Columns: [rank, discipline, yrs.since.phd, yrs.service, sex, salary]\n",
       "Index: []"
      ]
     },
     "execution_count": 10,
     "metadata": {},
     "output_type": "execute_result"
    }
   ],
   "source": [
    "df.loc[df['salary']==' ']   # checkinf for blank values if any"
   ]
  },
  {
   "cell_type": "code",
   "execution_count": 11,
   "id": "7642d2ce",
   "metadata": {
    "scrolled": true
   },
   "outputs": [
    {
     "data": {
      "text/html": [
       "<div>\n",
       "<style scoped>\n",
       "    .dataframe tbody tr th:only-of-type {\n",
       "        vertical-align: middle;\n",
       "    }\n",
       "\n",
       "    .dataframe tbody tr th {\n",
       "        vertical-align: top;\n",
       "    }\n",
       "\n",
       "    .dataframe thead th {\n",
       "        text-align: right;\n",
       "    }\n",
       "</style>\n",
       "<table border=\"1\" class=\"dataframe\">\n",
       "  <thead>\n",
       "    <tr style=\"text-align: right;\">\n",
       "      <th></th>\n",
       "      <th>yrs.since.phd</th>\n",
       "      <th>yrs.service</th>\n",
       "      <th>salary</th>\n",
       "    </tr>\n",
       "  </thead>\n",
       "  <tbody>\n",
       "    <tr>\n",
       "      <th>count</th>\n",
       "      <td>397.000000</td>\n",
       "      <td>397.000000</td>\n",
       "      <td>397.000000</td>\n",
       "    </tr>\n",
       "    <tr>\n",
       "      <th>mean</th>\n",
       "      <td>22.314861</td>\n",
       "      <td>17.614610</td>\n",
       "      <td>113706.458438</td>\n",
       "    </tr>\n",
       "    <tr>\n",
       "      <th>std</th>\n",
       "      <td>12.887003</td>\n",
       "      <td>13.006024</td>\n",
       "      <td>30289.038695</td>\n",
       "    </tr>\n",
       "    <tr>\n",
       "      <th>min</th>\n",
       "      <td>1.000000</td>\n",
       "      <td>0.000000</td>\n",
       "      <td>57800.000000</td>\n",
       "    </tr>\n",
       "    <tr>\n",
       "      <th>25%</th>\n",
       "      <td>12.000000</td>\n",
       "      <td>7.000000</td>\n",
       "      <td>91000.000000</td>\n",
       "    </tr>\n",
       "    <tr>\n",
       "      <th>50%</th>\n",
       "      <td>21.000000</td>\n",
       "      <td>16.000000</td>\n",
       "      <td>107300.000000</td>\n",
       "    </tr>\n",
       "    <tr>\n",
       "      <th>75%</th>\n",
       "      <td>32.000000</td>\n",
       "      <td>27.000000</td>\n",
       "      <td>134185.000000</td>\n",
       "    </tr>\n",
       "    <tr>\n",
       "      <th>max</th>\n",
       "      <td>56.000000</td>\n",
       "      <td>60.000000</td>\n",
       "      <td>231545.000000</td>\n",
       "    </tr>\n",
       "  </tbody>\n",
       "</table>\n",
       "</div>"
      ],
      "text/plain": [
       "       yrs.since.phd  yrs.service         salary\n",
       "count     397.000000   397.000000     397.000000\n",
       "mean       22.314861    17.614610  113706.458438\n",
       "std        12.887003    13.006024   30289.038695\n",
       "min         1.000000     0.000000   57800.000000\n",
       "25%        12.000000     7.000000   91000.000000\n",
       "50%        21.000000    16.000000  107300.000000\n",
       "75%        32.000000    27.000000  134185.000000\n",
       "max        56.000000    60.000000  231545.000000"
      ]
     },
     "execution_count": 11,
     "metadata": {},
     "output_type": "execute_result"
    }
   ],
   "source": [
    "df.describe()"
   ]
  },
  {
   "cell_type": "code",
   "execution_count": 12,
   "id": "172aaed5",
   "metadata": {
    "scrolled": true
   },
   "outputs": [
    {
     "data": {
      "text/html": [
       "<div>\n",
       "<style scoped>\n",
       "    .dataframe tbody tr th:only-of-type {\n",
       "        vertical-align: middle;\n",
       "    }\n",
       "\n",
       "    .dataframe tbody tr th {\n",
       "        vertical-align: top;\n",
       "    }\n",
       "\n",
       "    .dataframe thead th {\n",
       "        text-align: right;\n",
       "    }\n",
       "</style>\n",
       "<table border=\"1\" class=\"dataframe\">\n",
       "  <thead>\n",
       "    <tr style=\"text-align: right;\">\n",
       "      <th></th>\n",
       "      <th>rank</th>\n",
       "      <th>discipline</th>\n",
       "      <th>yrs.since.phd</th>\n",
       "      <th>yrs.service</th>\n",
       "      <th>sex</th>\n",
       "      <th>salary</th>\n",
       "    </tr>\n",
       "  </thead>\n",
       "  <tbody>\n",
       "    <tr>\n",
       "      <th>0</th>\n",
       "      <td>2</td>\n",
       "      <td>1</td>\n",
       "      <td>19</td>\n",
       "      <td>18</td>\n",
       "      <td>1</td>\n",
       "      <td>139750</td>\n",
       "    </tr>\n",
       "    <tr>\n",
       "      <th>1</th>\n",
       "      <td>2</td>\n",
       "      <td>1</td>\n",
       "      <td>20</td>\n",
       "      <td>16</td>\n",
       "      <td>1</td>\n",
       "      <td>173200</td>\n",
       "    </tr>\n",
       "    <tr>\n",
       "      <th>2</th>\n",
       "      <td>1</td>\n",
       "      <td>1</td>\n",
       "      <td>4</td>\n",
       "      <td>3</td>\n",
       "      <td>1</td>\n",
       "      <td>79750</td>\n",
       "    </tr>\n",
       "    <tr>\n",
       "      <th>3</th>\n",
       "      <td>2</td>\n",
       "      <td>1</td>\n",
       "      <td>45</td>\n",
       "      <td>39</td>\n",
       "      <td>1</td>\n",
       "      <td>115000</td>\n",
       "    </tr>\n",
       "    <tr>\n",
       "      <th>4</th>\n",
       "      <td>2</td>\n",
       "      <td>1</td>\n",
       "      <td>40</td>\n",
       "      <td>41</td>\n",
       "      <td>1</td>\n",
       "      <td>141500</td>\n",
       "    </tr>\n",
       "    <tr>\n",
       "      <th>...</th>\n",
       "      <td>...</td>\n",
       "      <td>...</td>\n",
       "      <td>...</td>\n",
       "      <td>...</td>\n",
       "      <td>...</td>\n",
       "      <td>...</td>\n",
       "    </tr>\n",
       "    <tr>\n",
       "      <th>392</th>\n",
       "      <td>2</td>\n",
       "      <td>0</td>\n",
       "      <td>33</td>\n",
       "      <td>30</td>\n",
       "      <td>1</td>\n",
       "      <td>103106</td>\n",
       "    </tr>\n",
       "    <tr>\n",
       "      <th>393</th>\n",
       "      <td>2</td>\n",
       "      <td>0</td>\n",
       "      <td>31</td>\n",
       "      <td>19</td>\n",
       "      <td>1</td>\n",
       "      <td>150564</td>\n",
       "    </tr>\n",
       "    <tr>\n",
       "      <th>394</th>\n",
       "      <td>2</td>\n",
       "      <td>0</td>\n",
       "      <td>42</td>\n",
       "      <td>25</td>\n",
       "      <td>1</td>\n",
       "      <td>101738</td>\n",
       "    </tr>\n",
       "    <tr>\n",
       "      <th>395</th>\n",
       "      <td>2</td>\n",
       "      <td>0</td>\n",
       "      <td>25</td>\n",
       "      <td>15</td>\n",
       "      <td>1</td>\n",
       "      <td>95329</td>\n",
       "    </tr>\n",
       "    <tr>\n",
       "      <th>396</th>\n",
       "      <td>1</td>\n",
       "      <td>0</td>\n",
       "      <td>8</td>\n",
       "      <td>4</td>\n",
       "      <td>1</td>\n",
       "      <td>81035</td>\n",
       "    </tr>\n",
       "  </tbody>\n",
       "</table>\n",
       "<p>397 rows × 6 columns</p>\n",
       "</div>"
      ],
      "text/plain": [
       "     rank  discipline  yrs.since.phd  yrs.service  sex  salary\n",
       "0       2           1             19           18    1  139750\n",
       "1       2           1             20           16    1  173200\n",
       "2       1           1              4            3    1   79750\n",
       "3       2           1             45           39    1  115000\n",
       "4       2           1             40           41    1  141500\n",
       "..    ...         ...            ...          ...  ...     ...\n",
       "392     2           0             33           30    1  103106\n",
       "393     2           0             31           19    1  150564\n",
       "394     2           0             42           25    1  101738\n",
       "395     2           0             25           15    1   95329\n",
       "396     1           0              8            4    1   81035\n",
       "\n",
       "[397 rows x 6 columns]"
      ]
     },
     "execution_count": 12,
     "metadata": {},
     "output_type": "execute_result"
    }
   ],
   "source": [
    "le = LabelEncoder()\n",
    "\n",
    "list1 =['rank','discipline','sex']\n",
    "for val in list1:\n",
    "    df[val]= le.fit_transform(df[val].astype(str))\n",
    "\n",
    "df"
   ]
  },
  {
   "cell_type": "code",
   "execution_count": 13,
   "id": "494d41e7",
   "metadata": {
    "scrolled": true
   },
   "outputs": [
    {
     "data": {
      "text/plain": [
       "<AxesSubplot:>"
      ]
     },
     "execution_count": 13,
     "metadata": {},
     "output_type": "execute_result"
    },
    {
     "data": {
      "image/png": "[encoded data removed]",
      "text/plain": [
       "<Figure size 432x288 with 1 Axes>"
      ]
     },
     "metadata": {
      "needs_background": "light"
     },
     "output_type": "display_data"
    }
   ],
   "source": [
    "#checking outliers\n",
    "df['yrs.since.phd'].plot.box()"
   ]
  },
  {
   "cell_type": "code",
   "execution_count": 14,
   "id": "578918c3",
   "metadata": {
    "scrolled": true
   },
   "outputs": [
    {
     "data": {
      "text/plain": [
       "<AxesSubplot:>"
      ]
     },
     "execution_count": 14,
     "metadata": {},
     "output_type": "execute_result"
    },
    {
     "data": {
      "image/png": "[encoded data removed]",
      "text/plain": [
       "<Figure size 432x288 with 1 Axes>"
      ]
     },
     "metadata": {
      "needs_background": "light"
     },
     "output_type": "display_data"
    }
   ],
   "source": [
    "df['yrs.service'].plot.box()"
   ]
  },
  {
   "cell_type": "code",
   "execution_count": 15,
   "id": "ccca54d6",
   "metadata": {
    "scrolled": true
   },
   "outputs": [
    {
     "name": "stdout",
     "output_type": "stream",
     "text": [
      "yrs.since.phd : 0.29974153157458827\n"
     ]
    },
    {
     "data": {
      "image/png": "[encoded data removed]",
      "text/plain": [
       "<Figure size 432x288 with 1 Axes>"
      ]
     },
     "metadata": {
      "needs_background": "light"
     },
     "output_type": "display_data"
    }
   ],
   "source": [
    "#checking skewness\n",
    "from scipy.stats import skew\n",
    "sns.distplot(df['yrs.since.phd'])\n",
    "print('yrs.since.phd :',skew(df['yrs.since.phd']))"
   ]
  },
  {
   "cell_type": "markdown",
   "id": "1b789f69",
   "metadata": {},
   "source": [
    "The data is normalized"
   ]
  },
  {
   "cell_type": "code",
   "execution_count": 16,
   "id": "679d7f0e",
   "metadata": {
    "scrolled": true
   },
   "outputs": [
    {
     "name": "stdout",
     "output_type": "stream",
     "text": [
      "yrs.service skewness : 0.6481088240680348\n"
     ]
    },
    {
     "data": {
      "image/png": "[encoded data removed]",
      "text/plain": [
       "<Figure size 432x288 with 1 Axes>"
      ]
     },
     "metadata": {
      "needs_background": "light"
     },
     "output_type": "display_data"
    }
   ],
   "source": [
    "sns.distplot(df['yrs.service'])\n",
    "print('yrs.service skewness :',skew(df['yrs.service']))"
   ]
  },
  {
   "cell_type": "markdown",
   "id": "21b6e91e",
   "metadata": {},
   "source": [
    "this is bimodal"
   ]
  },
  {
   "cell_type": "code",
   "execution_count": 17,
   "id": "5f87e389",
   "metadata": {
    "scrolled": true
   },
   "outputs": [
    {
     "data": {
      "text/plain": [
       "<AxesSubplot:>"
      ]
     },
     "execution_count": 17,
     "metadata": {},
     "output_type": "execute_result"
    },
    {
     "data": {
      "image/png": "[encoded data removed]",
      "text/plain": [
       "<Figure size 720x504 with 2 Axes>"
      ]
     },
     "metadata": {
      "needs_background": "light"
     },
     "output_type": "display_data"
    }
   ],
   "source": [
    "plt.figure(figsize=(10,7))\n",
    "sns.heatmap(df.corr(),annot=True,linewidth=0.5,linecolor=\"white\",fmt='0.2f')"
   ]
  },
  {
   "cell_type": "raw",
   "id": "a572c989",
   "metadata": {},
   "source": [
    "obs:\n",
    "    Rank and yrs.since.phd are highly correlated with Salary\n",
    "    Sex and discipline are less correlated with salary"
   ]
  },
  {
   "cell_type": "code",
   "execution_count": 18,
   "id": "6c176a5b",
   "metadata": {
    "scrolled": true
   },
   "outputs": [],
   "source": [
    "df.drop_duplicates(keep='first',inplace=True)"
   ]
  },
  {
   "cell_type": "code",
   "execution_count": 19,
   "id": "871d9adf",
   "metadata": {
    "scrolled": true
   },
   "outputs": [
    {
     "name": "stdout",
     "output_type": "stream",
     "text": [
      "rank\n",
      "2    266\n",
      "0     64\n",
      "1     63\n",
      "Name: rank, dtype: int64\n"
     ]
    },
    {
     "data": {
      "image/png": "[encoded data removed]",
      "text/plain": [
       "<Figure size 432x288 with 1 Axes>"
      ]
     },
     "metadata": {
      "needs_background": "light"
     },
     "output_type": "display_data"
    },
    {
     "name": "stdout",
     "output_type": "stream",
     "text": [
      "discipline\n",
      "1    212\n",
      "0    181\n",
      "Name: discipline, dtype: int64\n"
     ]
    },
    {
     "data": {
      "image/png": "[encoded data removed]",
      "text/plain": [
       "<Figure size 432x288 with 1 Axes>"
      ]
     },
     "metadata": {
      "needs_background": "light"
     },
     "output_type": "display_data"
    },
    {
     "name": "stdout",
     "output_type": "stream",
     "text": [
      "yrs.since.phd\n",
      "4     16\n",
      "28    16\n",
      "8     14\n",
      "19    13\n",
      "20    13\n",
      "13    12\n",
      "12    12\n",
      "17    12\n",
      "21    11\n",
      "23    11\n",
      "38    11\n",
      "10    10\n",
      "39    10\n",
      "31    10\n",
      "11    10\n",
      "14     9\n",
      "25     9\n",
      "15     9\n",
      "22     9\n",
      "9      9\n",
      "30     9\n",
      "27     8\n",
      "37     8\n",
      "29     8\n",
      "35     8\n",
      "33     8\n",
      "16     8\n",
      "18     8\n",
      "40     7\n",
      "3      7\n",
      "32     6\n",
      "45     6\n",
      "26     6\n",
      "24     6\n",
      "6      6\n",
      "7      6\n",
      "5      6\n",
      "2      5\n",
      "43     5\n",
      "36     5\n",
      "1      4\n",
      "41     4\n",
      "42     4\n",
      "49     4\n",
      "46     4\n",
      "34     3\n",
      "56     2\n",
      "52     1\n",
      "51     1\n",
      "54     1\n",
      "47     1\n",
      "48     1\n",
      "44     1\n",
      "Name: yrs.since.phd, dtype: int64\n"
     ]
    },
    {
     "data": {
      "image/png": "[encoded data removed]",
      "text/plain": [
       "<Figure size 432x288 with 1 Axes>"
      ]
     },
     "metadata": {
      "needs_background": "light"
     },
     "output_type": "display_data"
    },
    {
     "name": "stdout",
     "output_type": "stream",
     "text": [
      "yrs.service\n",
      "3     21\n",
      "19    19\n",
      "7     18\n",
      "8     18\n",
      "23    16\n",
      "18    15\n",
      "9     15\n",
      "2     15\n",
      "11    14\n",
      "1     13\n",
      "27    11\n",
      "0     11\n",
      "6     11\n",
      "10    11\n",
      "20    10\n",
      "31    10\n",
      "4     10\n",
      "15     9\n",
      "30     9\n",
      "28     9\n",
      "14     8\n",
      "5      8\n",
      "16     8\n",
      "22     8\n",
      "25     8\n",
      "38     8\n",
      "26     7\n",
      "36     6\n",
      "17     6\n",
      "21     6\n",
      "12     5\n",
      "35     5\n",
      "40     5\n",
      "33     4\n",
      "37     4\n",
      "45     4\n",
      "43     4\n",
      "39     4\n",
      "44     3\n",
      "49     3\n",
      "24     2\n",
      "34     2\n",
      "53     1\n",
      "57     1\n",
      "32     1\n",
      "29     1\n",
      "41     1\n",
      "48     1\n",
      "46     1\n",
      "51     1\n",
      "13     1\n",
      "60     1\n",
      "Name: yrs.service, dtype: int64\n"
     ]
    },
    {
     "data": {
      "image/png": "[encoded data removed]",
      "text/plain": [
       "<Figure size 432x288 with 1 Axes>"
      ]
     },
     "metadata": {
      "needs_background": "light"
     },
     "output_type": "display_data"
    },
    {
     "name": "stdout",
     "output_type": "stream",
     "text": [
      "sex\n",
      "1    354\n",
      "0     39\n",
      "Name: sex, dtype: int64\n"
     ]
    },
    {
     "data": {
      "image/png": "[encoded data removed]",
      "text/plain": [
       "<Figure size 432x288 with 1 Axes>"
      ]
     },
     "metadata": {
      "needs_background": "light"
     },
     "output_type": "display_data"
    },
    {
     "name": "stdout",
     "output_type": "stream",
     "text": [
      "salary\n",
      "74000     4\n",
      "72500     4\n",
      "92000     3\n",
      "101000    3\n",
      "105000    3\n",
      "         ..\n",
      "168635    1\n",
      "76840     1\n",
      "83001     1\n",
      "113278    1\n",
      "81035     1\n",
      "Name: salary, Length: 371, dtype: int64\n"
     ]
    },
    {
     "data": {
      "image/png": "[encoded data removed]",
      "text/plain": [
       "<Figure size 432x288 with 1 Axes>"
      ]
     },
     "metadata": {
      "needs_background": "light"
     },
     "output_type": "display_data"
    }
   ],
   "source": [
    "for col in df:\n",
    "    print(col)\n",
    "    print(df[col].value_counts())\n",
    "    sns.countplot(df[col])\n",
    "    plt.show()"
   ]
  },
  {
   "cell_type": "code",
   "execution_count": null,
   "id": "b5dab7fb",
   "metadata": {
    "scrolled": true
   },
   "outputs": [],
   "source": []
  },
  {
   "cell_type": "code",
   "execution_count": 20,
   "id": "deac18ff",
   "metadata": {
    "scrolled": true
   },
   "outputs": [
    {
     "data": {
      "text/plain": [
       "array([0.01881993, 0.13526822, 1.13684118, 1.63674547, 1.79083362,\n",
       "       0.90570896, 0.40404029, 2.09900992, 0.17290807, 0.01881993,\n",
       "       0.75162081, 1.21388525, 1.29092933, 1.3679734 , 0.01881993,\n",
       "       1.13684118, 0.17290807, 1.25152511, 0.40404029, 1.40561325,\n",
       "       0.63517252, 1.02039288, 0.94334881, 0.095864  , 0.75162081,\n",
       "       0.75162081, 0.40404029, 1.13684118, 1.3679734 , 0.75162081,\n",
       "       1.05979711, 1.21388525, 0.67457674, 1.21388525, 1.21388525,\n",
       "       1.3679734 , 0.24995215, 1.05979711, 1.02039288, 0.67457674,\n",
       "       1.21388525, 0.40404029, 0.71221659, 1.5597014 , 0.095864  ,\n",
       "       0.21231229, 0.78926066, 0.095864  , 0.55812844, 1.29092933,\n",
       "       0.78926066, 0.52048859, 1.13684118, 0.67457674, 0.52048859,\n",
       "       0.98275303, 0.24995215, 0.75162081, 0.67457674, 1.13684118,\n",
       "       0.75162081, 1.21388525, 1.02039288, 0.52048859, 1.13684118,\n",
       "       0.75162081, 0.44344452, 1.02039288, 0.05822415, 1.40561325,\n",
       "       1.21388525, 2.09900992, 0.095864  , 1.25152511, 0.40404029,\n",
       "       1.13684118, 1.13684118, 0.095864  , 1.29092933, 1.21388525,\n",
       "       0.78926066, 0.13526822, 0.17290807, 1.21388525, 0.01881993,\n",
       "       0.28935637, 1.48265733, 1.21388525, 0.55812844, 0.82866488,\n",
       "       0.98275303, 0.82866488, 0.82866488, 1.5597014 , 0.17290807,\n",
       "       1.3679734 , 0.44344452, 0.82866488, 0.28935637, 0.63517252,\n",
       "       0.55812844, 0.40404029, 0.98275303, 0.28935637, 0.59753266,\n",
       "       0.78926066, 0.75162081, 0.75162081, 0.75162081, 1.02039288,\n",
       "       0.13526822, 0.13526822, 1.29092933, 1.48265733, 1.3679734 ,\n",
       "       0.67457674, 0.86630474, 1.40561325, 1.29092933, 1.13684118,\n",
       "       0.28935637, 1.09743696, 0.32699622, 0.32699622, 0.32699622,\n",
       "       2.40718621, 0.63517252, 1.3679734 , 0.94334881, 1.21388525,\n",
       "       0.67457674, 3.0235388 , 0.75162081, 1.29092933, 0.55812844,\n",
       "       0.01881993, 0.28935637, 0.28935637, 0.82866488, 0.01881993,\n",
       "       0.75162081, 0.59753266, 0.52048859, 1.13684118, 0.71221659,\n",
       "       0.78926066, 1.05979711, 0.71221659, 0.63517252, 1.13684118,\n",
       "       0.44344452, 0.67457674, 0.59753266, 1.3679734 , 0.24995215,\n",
       "       0.01881993, 1.3679734 , 0.90570896, 0.13526822, 1.21388525,\n",
       "       0.095864  , 0.82866488, 1.3679734 , 0.75162081, 0.13526822,\n",
       "       0.095864  , 0.90570896, 0.01881993, 0.98275303, 0.095864  ,\n",
       "       0.48108437, 0.17290807, 0.90570896, 0.55812844, 0.82866488,\n",
       "       0.67457674, 0.28935637, 1.13684118, 0.52048859, 0.98275303,\n",
       "       0.75162081, 0.32699622, 0.40404029, 0.94334881, 0.59753266,\n",
       "       0.59753266, 0.78926066, 0.095864  , 0.67457674, 0.32699622,\n",
       "       0.01881993, 0.095864  , 2.71536251, 0.82866488, 1.05979711,\n",
       "       1.17448103, 0.32699622, 1.71378955, 0.05822415, 0.05822415,\n",
       "       0.98275303, 1.21388525, 1.17448103, 0.01881993, 1.21388525,\n",
       "       0.17290807, 1.13684118, 1.63674547, 0.82866488, 0.095864  ,\n",
       "       1.29092933, 0.52048859, 0.52048859, 0.32699622, 0.82866488,\n",
       "       0.52048859, 0.24995215, 0.59753266, 0.90570896, 0.17290807,\n",
       "       1.32856918, 0.17290807, 1.29092933, 0.82866488, 0.52048859,\n",
       "       1.5597014 , 0.71221659, 0.48108437, 0.095864  , 0.095864  ,\n",
       "       1.13684118, 0.05822415, 0.55812844, 0.90570896, 1.71378955,\n",
       "       0.90570896, 1.13684118, 0.94334881, 1.48265733, 0.40404029,\n",
       "       0.40404029, 0.52048859, 0.40404029, 0.01881993, 0.40404029,\n",
       "       0.82866488, 1.63674547, 0.75162081, 0.44344452, 1.21388525,\n",
       "       0.82866488, 0.75162081, 0.32699622, 0.40404029, 1.13684118,\n",
       "       0.94334881, 1.17448103, 2.09900992, 0.63517252, 1.02039288,\n",
       "       1.32856918, 0.94334881, 1.94492177, 0.59753266, 2.02196584,\n",
       "       0.82866488, 1.71378955, 0.01881993, 1.29092933, 1.05979711,\n",
       "       1.13684118, 0.90570896, 2.33014214, 0.71221659, 0.01881993,\n",
       "       2.17605399, 1.5597014 , 0.71221659, 2.56127436, 1.94492177,\n",
       "       0.90570896, 2.40718621, 0.71221659, 1.3679734 , 0.71221659,\n",
       "       0.98275303, 0.82866488, 0.78926066, 0.67457674, 1.29092933,\n",
       "       0.82866488, 1.40561325, 0.01881993, 0.52048859, 1.94492177,\n",
       "       1.63674547, 1.40561325, 0.13526822, 0.36640044, 1.05979711,\n",
       "       2.02196584, 1.02039288, 1.05979711, 0.78926066, 1.3679734 ,\n",
       "       0.21231229, 0.82866488, 0.67457674, 0.095864  , 1.32856918,\n",
       "       0.90570896, 1.13684118, 0.67457674, 2.09900992, 0.13526822,\n",
       "       0.21231229, 0.40404029, 0.67457674, 0.52048859, 0.21231229,\n",
       "       1.02039288, 1.05979711, 0.21231229, 1.48265733, 0.59753266,\n",
       "       0.40404029, 3.25467102, 0.67457674, 0.59753266, 0.095864  ,\n",
       "       0.90570896, 1.5597014 , 0.40404029, 0.44344452, 0.55812844,\n",
       "       0.21231229, 0.52048859, 0.05822415, 1.5597014 , 1.02039288,\n",
       "       1.32856918, 0.59753266, 0.71221659, 1.17448103, 1.13684118,\n",
       "       0.78926066, 2.40718621, 1.5597014 , 0.71221659, 0.17290807,\n",
       "       1.29092933, 0.24995215, 1.71378955, 1.32856918, 0.28935637,\n",
       "       1.05979711, 0.52048859, 0.21231229, 0.94334881, 0.05822415,\n",
       "       1.94492177, 1.71378955, 0.59753266, 1.29092933, 0.94334881,\n",
       "       1.02039288, 0.75162081, 0.17290807, 0.82866488, 0.63517252,\n",
       "       0.095864  , 0.63517252, 1.29092933, 1.13684118, 1.5597014 ,\n",
       "       0.75162081, 1.13684118, 0.40404029, 0.98275303, 2.02196584,\n",
       "       0.24995215, 0.67457674, 0.71221659, 0.21231229, 1.40561325,\n",
       "       0.01881993, 0.095864  , 0.095864  , 0.94334881, 0.095864  ,\n",
       "       0.55812844, 0.21231229, 1.05979711])"
      ]
     },
     "execution_count": 20,
     "metadata": {},
     "output_type": "execute_result"
    }
   ],
   "source": [
    "# removing outliers\n",
    "from scipy.stats import zscore\n",
    "z = np.array(abs(zscore(df['yrs.service'])))\n",
    "z"
   ]
  },
  {
   "cell_type": "code",
   "execution_count": 21,
   "id": "cab72bd2",
   "metadata": {
    "scrolled": true
   },
   "outputs": [
    {
     "name": "stdout",
     "output_type": "stream",
     "text": [
      "(array([131, 326], dtype=int64),)\n"
     ]
    }
   ],
   "source": [
    "threshold = 3\n",
    "print(np.where(z>3))"
   ]
  },
  {
   "cell_type": "code",
   "execution_count": 22,
   "id": "feba0fd9",
   "metadata": {
    "scrolled": true
   },
   "outputs": [
    {
     "data": {
      "text/plain": [
       "3.0235388011518114"
      ]
     },
     "execution_count": 22,
     "metadata": {},
     "output_type": "execute_result"
    }
   ],
   "source": [
    "z[131]"
   ]
  },
  {
   "cell_type": "code",
   "execution_count": 23,
   "id": "e7f7dcbc",
   "metadata": {
    "scrolled": true
   },
   "outputs": [
    {
     "data": {
      "text/plain": [
       "rank                 2\n",
       "discipline           0\n",
       "yrs.since.phd       56\n",
       "yrs.service         57\n",
       "sex                  1\n",
       "salary           76840\n",
       "Name: 131, dtype: int64"
      ]
     },
     "execution_count": 23,
     "metadata": {},
     "output_type": "execute_result"
    }
   ],
   "source": [
    "df.iloc[131]"
   ]
  },
  {
   "cell_type": "code",
   "execution_count": 24,
   "id": "87bb6028",
   "metadata": {
    "scrolled": true
   },
   "outputs": [],
   "source": [
    "df_new=df.drop(131,axis=0)"
   ]
  },
  {
   "cell_type": "code",
   "execution_count": 25,
   "id": "d743b45f",
   "metadata": {
    "scrolled": true
   },
   "outputs": [
    {
     "data": {
      "text/plain": [
       "(392, 6)"
      ]
     },
     "execution_count": 25,
     "metadata": {},
     "output_type": "execute_result"
    }
   ],
   "source": [
    "df_new.shape"
   ]
  },
  {
   "cell_type": "code",
   "execution_count": 26,
   "id": "5dea0de5",
   "metadata": {
    "scrolled": true
   },
   "outputs": [
    {
     "data": {
      "text/plain": [
       "(393, 6)"
      ]
     },
     "execution_count": 26,
     "metadata": {},
     "output_type": "execute_result"
    }
   ],
   "source": [
    "df.shape"
   ]
  },
  {
   "cell_type": "code",
   "execution_count": 27,
   "id": "cff44156",
   "metadata": {
    "scrolled": true
   },
   "outputs": [
    {
     "data": {
      "text/plain": [
       "0.2518891687657431"
      ]
     },
     "execution_count": 27,
     "metadata": {},
     "output_type": "execute_result"
    }
   ],
   "source": [
    "loss_percent=((397-396)/397)*100\n",
    "loss_percent"
   ]
  },
  {
   "cell_type": "code",
   "execution_count": 28,
   "id": "03ef761a",
   "metadata": {
    "scrolled": true
   },
   "outputs": [],
   "source": [
    "x=df_new.iloc[:,:-1]"
   ]
  },
  {
   "cell_type": "code",
   "execution_count": 29,
   "id": "84d0f9c7",
   "metadata": {
    "scrolled": true
   },
   "outputs": [],
   "source": [
    "import statsmodels.api as sm\n",
    "from scipy import stats\n",
    "from statsmodels.stats.outliers_influence import variance_inflation_factor"
   ]
  },
  {
   "cell_type": "code",
   "execution_count": 30,
   "id": "9bd00e67",
   "metadata": {
    "scrolled": true
   },
   "outputs": [],
   "source": [
    "#Checking multicollinearity\n",
    "\n",
    "def calc_vif(x):\n",
    "    vif=pd.DataFrame()\n",
    "    vif['variables']=x.columns\n",
    "    vif[\"VIF FACTOR\"]= [variance_inflation_factor(x.values,i) for i in range(x.shape[1])]\n",
    "    return(vif)"
   ]
  },
  {
   "cell_type": "code",
   "execution_count": 31,
   "id": "5429e70a",
   "metadata": {
    "scrolled": true
   },
   "outputs": [
    {
     "data": {
      "text/html": [
       "<div>\n",
       "<style scoped>\n",
       "    .dataframe tbody tr th:only-of-type {\n",
       "        vertical-align: middle;\n",
       "    }\n",
       "\n",
       "    .dataframe tbody tr th {\n",
       "        vertical-align: top;\n",
       "    }\n",
       "\n",
       "    .dataframe thead th {\n",
       "        text-align: right;\n",
       "    }\n",
       "</style>\n",
       "<table border=\"1\" class=\"dataframe\">\n",
       "  <thead>\n",
       "    <tr style=\"text-align: right;\">\n",
       "      <th></th>\n",
       "      <th>variables</th>\n",
       "      <th>VIF FACTOR</th>\n",
       "    </tr>\n",
       "  </thead>\n",
       "  <tbody>\n",
       "    <tr>\n",
       "      <th>0</th>\n",
       "      <td>rank</td>\n",
       "      <td>6.500455</td>\n",
       "    </tr>\n",
       "    <tr>\n",
       "      <th>1</th>\n",
       "      <td>discipline</td>\n",
       "      <td>1.996766</td>\n",
       "    </tr>\n",
       "    <tr>\n",
       "      <th>2</th>\n",
       "      <td>yrs.since.phd</td>\n",
       "      <td>24.885273</td>\n",
       "    </tr>\n",
       "    <tr>\n",
       "      <th>3</th>\n",
       "      <td>yrs.service</td>\n",
       "      <td>16.095594</td>\n",
       "    </tr>\n",
       "    <tr>\n",
       "      <th>4</th>\n",
       "      <td>sex</td>\n",
       "      <td>5.487581</td>\n",
       "    </tr>\n",
       "  </tbody>\n",
       "</table>\n",
       "</div>"
      ],
      "text/plain": [
       "       variables  VIF FACTOR\n",
       "0           rank    6.500455\n",
       "1     discipline    1.996766\n",
       "2  yrs.since.phd   24.885273\n",
       "3    yrs.service   16.095594\n",
       "4            sex    5.487581"
      ]
     },
     "execution_count": 31,
     "metadata": {},
     "output_type": "execute_result"
    }
   ],
   "source": [
    "calc_vif(x)"
   ]
  },
  {
   "cell_type": "code",
   "execution_count": 32,
   "id": "8f8439ff",
   "metadata": {
    "scrolled": true
   },
   "outputs": [],
   "source": [
    "y = df_new['salary']"
   ]
  },
  {
   "cell_type": "code",
   "execution_count": 33,
   "id": "f28175c5",
   "metadata": {
    "scrolled": true
   },
   "outputs": [
    {
     "data": {
      "text/html": [
       "<div>\n",
       "<style scoped>\n",
       "    .dataframe tbody tr th:only-of-type {\n",
       "        vertical-align: middle;\n",
       "    }\n",
       "\n",
       "    .dataframe tbody tr th {\n",
       "        vertical-align: top;\n",
       "    }\n",
       "\n",
       "    .dataframe thead th {\n",
       "        text-align: right;\n",
       "    }\n",
       "</style>\n",
       "<table border=\"1\" class=\"dataframe\">\n",
       "  <thead>\n",
       "    <tr style=\"text-align: right;\">\n",
       "      <th></th>\n",
       "      <th>rank</th>\n",
       "      <th>discipline</th>\n",
       "      <th>yrs.since.phd</th>\n",
       "      <th>yrs.service</th>\n",
       "      <th>sex</th>\n",
       "    </tr>\n",
       "  </thead>\n",
       "  <tbody>\n",
       "    <tr>\n",
       "      <th>0</th>\n",
       "      <td>2</td>\n",
       "      <td>1</td>\n",
       "      <td>19</td>\n",
       "      <td>18</td>\n",
       "      <td>1</td>\n",
       "    </tr>\n",
       "    <tr>\n",
       "      <th>1</th>\n",
       "      <td>2</td>\n",
       "      <td>1</td>\n",
       "      <td>20</td>\n",
       "      <td>16</td>\n",
       "      <td>1</td>\n",
       "    </tr>\n",
       "    <tr>\n",
       "      <th>2</th>\n",
       "      <td>1</td>\n",
       "      <td>1</td>\n",
       "      <td>4</td>\n",
       "      <td>3</td>\n",
       "      <td>1</td>\n",
       "    </tr>\n",
       "    <tr>\n",
       "      <th>3</th>\n",
       "      <td>2</td>\n",
       "      <td>1</td>\n",
       "      <td>45</td>\n",
       "      <td>39</td>\n",
       "      <td>1</td>\n",
       "    </tr>\n",
       "    <tr>\n",
       "      <th>4</th>\n",
       "      <td>2</td>\n",
       "      <td>1</td>\n",
       "      <td>40</td>\n",
       "      <td>41</td>\n",
       "      <td>1</td>\n",
       "    </tr>\n",
       "    <tr>\n",
       "      <th>...</th>\n",
       "      <td>...</td>\n",
       "      <td>...</td>\n",
       "      <td>...</td>\n",
       "      <td>...</td>\n",
       "      <td>...</td>\n",
       "    </tr>\n",
       "    <tr>\n",
       "      <th>392</th>\n",
       "      <td>2</td>\n",
       "      <td>0</td>\n",
       "      <td>33</td>\n",
       "      <td>30</td>\n",
       "      <td>1</td>\n",
       "    </tr>\n",
       "    <tr>\n",
       "      <th>393</th>\n",
       "      <td>2</td>\n",
       "      <td>0</td>\n",
       "      <td>31</td>\n",
       "      <td>19</td>\n",
       "      <td>1</td>\n",
       "    </tr>\n",
       "    <tr>\n",
       "      <th>394</th>\n",
       "      <td>2</td>\n",
       "      <td>0</td>\n",
       "      <td>42</td>\n",
       "      <td>25</td>\n",
       "      <td>1</td>\n",
       "    </tr>\n",
       "    <tr>\n",
       "      <th>395</th>\n",
       "      <td>2</td>\n",
       "      <td>0</td>\n",
       "      <td>25</td>\n",
       "      <td>15</td>\n",
       "      <td>1</td>\n",
       "    </tr>\n",
       "    <tr>\n",
       "      <th>396</th>\n",
       "      <td>1</td>\n",
       "      <td>0</td>\n",
       "      <td>8</td>\n",
       "      <td>4</td>\n",
       "      <td>1</td>\n",
       "    </tr>\n",
       "  </tbody>\n",
       "</table>\n",
       "<p>392 rows × 5 columns</p>\n",
       "</div>"
      ],
      "text/plain": [
       "     rank  discipline  yrs.since.phd  yrs.service  sex\n",
       "0       2           1             19           18    1\n",
       "1       2           1             20           16    1\n",
       "2       1           1              4            3    1\n",
       "3       2           1             45           39    1\n",
       "4       2           1             40           41    1\n",
       "..    ...         ...            ...          ...  ...\n",
       "392     2           0             33           30    1\n",
       "393     2           0             31           19    1\n",
       "394     2           0             42           25    1\n",
       "395     2           0             25           15    1\n",
       "396     1           0              8            4    1\n",
       "\n",
       "[392 rows x 5 columns]"
      ]
     },
     "execution_count": 33,
     "metadata": {},
     "output_type": "execute_result"
    }
   ],
   "source": [
    "x"
   ]
  },
  {
   "cell_type": "code",
   "execution_count": 34,
   "id": "32bb9670",
   "metadata": {
    "scrolled": true
   },
   "outputs": [
    {
     "data": {
      "text/plain": [
       "0      139750\n",
       "1      173200\n",
       "2       79750\n",
       "3      115000\n",
       "4      141500\n",
       "        ...  \n",
       "392    103106\n",
       "393    150564\n",
       "394    101738\n",
       "395     95329\n",
       "396     81035\n",
       "Name: salary, Length: 392, dtype: int64"
      ]
     },
     "execution_count": 34,
     "metadata": {},
     "output_type": "execute_result"
    }
   ],
   "source": [
    "y"
   ]
  },
  {
   "cell_type": "markdown",
   "id": "43c6892c",
   "metadata": {},
   "source": [
    "# Scaling the data using Standard Scaler:"
   ]
  },
  {
   "cell_type": "code",
   "execution_count": 35,
   "id": "e7269e0a",
   "metadata": {
    "scrolled": false
   },
   "outputs": [],
   "source": [
    "scalar= StandardScaler()\n",
    "x=scalar.fit_transform(x)\n",
    "y=scalar.fit_transform(y.values.reshape(-1,1))"
   ]
  },
  {
   "cell_type": "code",
   "execution_count": 36,
   "id": "b3cd4d15",
   "metadata": {
    "scrolled": true
   },
   "outputs": [],
   "source": [
    "from sklearn.preprocessing import MinMaxScaler\n",
    "\n",
    "from sklearn.linear_model import LinearRegression\n",
    "lr = LinearRegression()\n",
    "from sklearn.metrics import r2_score\n",
    "from sklearn.model_selection import train_test_split\n",
    "\n",
    "import warnings\n",
    "warnings.filterwarnings('ignore')"
   ]
  },
  {
   "cell_type": "code",
   "execution_count": null,
   "id": "f21f9541",
   "metadata": {
    "scrolled": false
   },
   "outputs": [],
   "source": []
  },
  {
   "cell_type": "code",
   "execution_count": 37,
   "id": "9a2ef78c",
   "metadata": {
    "scrolled": false
   },
   "outputs": [
    {
     "name": "stdout",
     "output_type": "stream",
     "text": [
      "At random state 0,the training accuracy is:- 0.34748141357425455\n",
      "At random state 0,the testing accuracy is:- 0.4718883784040735\n",
      "\n",
      "\n",
      "At random state 1,the training accuracy is:- 0.370112635153508\n",
      "At random state 1,the testing accuracy is:- 0.4010600802615317\n",
      "\n",
      "\n",
      "At random state 2,the training accuracy is:- 0.36539389479727336\n",
      "At random state 2,the testing accuracy is:- 0.4048765209611024\n",
      "\n",
      "\n",
      "At random state 3,the training accuracy is:- 0.3836868461883107\n",
      "At random state 3,the testing accuracy is:- 0.3050115336420347\n",
      "\n",
      "\n",
      "At random state 4,the training accuracy is:- 0.37221991354994133\n",
      "At random state 4,the testing accuracy is:- 0.3711943906352373\n",
      "\n",
      "\n",
      "At random state 5,the training accuracy is:- 0.400028318173124\n",
      "At random state 5,the testing accuracy is:- 0.2700200808920956\n",
      "\n",
      "\n",
      "At random state 6,the training accuracy is:- 0.37712376922117097\n",
      "At random state 6,the testing accuracy is:- 0.3528465126118657\n",
      "\n",
      "\n",
      "At random state 7,the training accuracy is:- 0.3761816045538505\n",
      "At random state 7,the testing accuracy is:- 0.3546357648106164\n",
      "\n",
      "\n",
      "At random state 8,the training accuracy is:- 0.38415891285626536\n",
      "At random state 8,the testing accuracy is:- 0.34073935574853\n",
      "\n",
      "\n",
      "At random state 9,the training accuracy is:- 0.39182176875601127\n",
      "At random state 9,the testing accuracy is:- 0.2863689943147778\n",
      "\n",
      "\n",
      "At random state 10,the training accuracy is:- 0.36964841568358064\n",
      "At random state 10,the testing accuracy is:- 0.3856360029061622\n",
      "\n",
      "\n",
      "At random state 11,the training accuracy is:- 0.37842263646869634\n",
      "At random state 11,the testing accuracy is:- 0.35893373105412885\n",
      "\n",
      "\n",
      "At random state 12,the training accuracy is:- 0.3940523896342921\n",
      "At random state 12,the testing accuracy is:- 0.3112659324048972\n",
      "\n",
      "\n",
      "At random state 13,the training accuracy is:- 0.40865672978293344\n",
      "At random state 13,the testing accuracy is:- 0.0779259657012723\n",
      "\n",
      "\n",
      "At random state 14,the training accuracy is:- 0.3899918579347619\n",
      "At random state 14,the testing accuracy is:- 0.3213403758891774\n",
      "\n",
      "\n",
      "At random state 15,the training accuracy is:- 0.38089548985625565\n",
      "At random state 15,the testing accuracy is:- 0.33483022663696094\n",
      "\n",
      "\n",
      "At random state 16,the training accuracy is:- 0.3620234221347366\n",
      "At random state 16,the testing accuracy is:- 0.4058124630743696\n",
      "\n",
      "\n",
      "At random state 17,the training accuracy is:- 0.36479116136306966\n",
      "At random state 17,the testing accuracy is:- 0.4152046319272812\n",
      "\n",
      "\n",
      "At random state 18,the training accuracy is:- 0.38830592403879216\n",
      "At random state 18,the testing accuracy is:- 0.3171098733209302\n",
      "\n",
      "\n",
      "At random state 19,the training accuracy is:- 0.37297875673307\n",
      "At random state 19,the testing accuracy is:- 0.3784425138804165\n",
      "\n",
      "\n",
      "At random state 20,the training accuracy is:- 0.3641833665033216\n",
      "At random state 20,the testing accuracy is:- 0.41785823483352846\n",
      "\n",
      "\n",
      "At random state 21,the training accuracy is:- 0.3490842222097337\n",
      "At random state 21,the testing accuracy is:- 0.4580085772581647\n",
      "\n",
      "\n",
      "At random state 22,the training accuracy is:- 0.362839326892784\n",
      "At random state 22,the testing accuracy is:- 0.410692230583258\n",
      "\n",
      "\n",
      "At random state 23,the training accuracy is:- 0.3857826143097681\n",
      "At random state 23,the testing accuracy is:- 0.3256617314654584\n",
      "\n",
      "\n",
      "At random state 24,the training accuracy is:- 0.38727402868559535\n",
      "At random state 24,the testing accuracy is:- 0.31895681989873204\n",
      "\n",
      "\n",
      "At random state 25,the training accuracy is:- 0.3952365871125858\n",
      "At random state 25,the testing accuracy is:- 0.2551982814238931\n",
      "\n",
      "\n",
      "At random state 26,the training accuracy is:- 0.3744999534854423\n",
      "At random state 26,the testing accuracy is:- 0.3773728973292433\n",
      "\n",
      "\n",
      "At random state 27,the training accuracy is:- 0.3593125970332879\n",
      "At random state 27,the testing accuracy is:- 0.45036934959061103\n",
      "\n",
      "\n",
      "At random state 28,the training accuracy is:- 0.3828464184851298\n",
      "At random state 28,the testing accuracy is:- 0.3380746286727673\n",
      "\n",
      "\n",
      "At random state 29,the training accuracy is:- 0.396690757919829\n",
      "At random state 29,the testing accuracy is:- 0.26004496007359923\n",
      "\n",
      "\n",
      "At random state 30,the training accuracy is:- 0.38284282603707265\n",
      "At random state 30,the testing accuracy is:- 0.3185870888805995\n",
      "\n",
      "\n",
      "At random state 31,the training accuracy is:- 0.3785882295625318\n",
      "At random state 31,the testing accuracy is:- 0.36297242861165646\n",
      "\n",
      "\n",
      "At random state 32,the training accuracy is:- 0.3833995761203557\n",
      "At random state 32,the testing accuracy is:- 0.325416016714695\n",
      "\n",
      "\n",
      "At random state 33,the training accuracy is:- 0.3439905540989695\n",
      "At random state 33,the testing accuracy is:- 0.4865697729722769\n",
      "\n",
      "\n",
      "At random state 34,the training accuracy is:- 0.3760673735548382\n",
      "At random state 34,the testing accuracy is:- 0.35992792928852757\n",
      "\n",
      "\n",
      "At random state 35,the training accuracy is:- 0.4021717029720492\n",
      "At random state 35,the testing accuracy is:- 0.24547287652730654\n",
      "\n",
      "\n",
      "At random state 36,the training accuracy is:- 0.3748264600679092\n",
      "At random state 36,the testing accuracy is:- 0.3673939812472765\n",
      "\n",
      "\n",
      "At random state 37,the training accuracy is:- 0.3395005841003855\n",
      "At random state 37,the testing accuracy is:- 0.43974198173091783\n",
      "\n",
      "\n",
      "At random state 38,the training accuracy is:- 0.3861413931379427\n",
      "At random state 38,the testing accuracy is:- 0.2978616525233059\n",
      "\n",
      "\n",
      "At random state 39,the training accuracy is:- 0.37941500948198814\n",
      "At random state 39,the testing accuracy is:- 0.2801097335892492\n",
      "\n",
      "\n",
      "At random state 40,the training accuracy is:- 0.3882304895097465\n",
      "At random state 40,the testing accuracy is:- 0.33200843036247896\n",
      "\n",
      "\n",
      "At random state 41,the training accuracy is:- 0.3883630192579669\n",
      "At random state 41,the testing accuracy is:- 0.2994506443528774\n",
      "\n",
      "\n",
      "At random state 42,the training accuracy is:- 0.3883697703507254\n",
      "At random state 42,the testing accuracy is:- 0.28252842872552064\n",
      "\n",
      "\n",
      "At random state 43,the training accuracy is:- 0.3835420558263778\n",
      "At random state 43,the testing accuracy is:- 0.3220279141845406\n",
      "\n",
      "\n",
      "At random state 44,the training accuracy is:- 0.3598613311006442\n",
      "At random state 44,the testing accuracy is:- 0.41436577852022505\n",
      "\n",
      "\n",
      "At random state 45,the training accuracy is:- 0.394360951394673\n",
      "At random state 45,the testing accuracy is:- 0.3024077114304775\n",
      "\n",
      "\n",
      "At random state 46,the training accuracy is:- 0.35977448229504905\n",
      "At random state 46,the testing accuracy is:- 0.38733982282652635\n",
      "\n",
      "\n",
      "At random state 47,the training accuracy is:- 0.36207732767594325\n",
      "At random state 47,the testing accuracy is:- 0.40301980995229436\n",
      "\n",
      "\n",
      "At random state 48,the training accuracy is:- 0.36624792971812503\n",
      "At random state 48,the testing accuracy is:- 0.3829932350995683\n",
      "\n",
      "\n",
      "At random state 49,the training accuracy is:- 0.39580928354891076\n",
      "At random state 49,the testing accuracy is:- 0.2899203043066847\n",
      "\n",
      "\n",
      "At random state 50,the training accuracy is:- 0.36828652021298136\n",
      "At random state 50,the testing accuracy is:- 0.38438452446374616\n",
      "\n",
      "\n",
      "At random state 51,the training accuracy is:- 0.38240538264914203\n",
      "At random state 51,the testing accuracy is:- 0.3361349331600453\n",
      "\n",
      "\n",
      "At random state 52,the training accuracy is:- 0.37579381483095686\n",
      "At random state 52,the testing accuracy is:- 0.35906866695209994\n",
      "\n",
      "\n",
      "At random state 53,the training accuracy is:- 0.3655316230622405\n",
      "At random state 53,the testing accuracy is:- 0.4099488427135386\n",
      "\n",
      "\n",
      "At random state 54,the training accuracy is:- 0.3890215727859738\n",
      "At random state 54,the testing accuracy is:- 0.29874244813681794\n",
      "\n",
      "\n",
      "At random state 55,the training accuracy is:- 0.36826984547419317\n",
      "At random state 55,the testing accuracy is:- 0.39518760827025234\n",
      "\n",
      "\n",
      "At random state 56,the training accuracy is:- 0.38180044981438843\n",
      "At random state 56,the testing accuracy is:- 0.33174760298827033\n",
      "\n",
      "\n",
      "At random state 57,the training accuracy is:- 0.35109552677103506\n",
      "At random state 57,the testing accuracy is:- 0.43274367327012697\n",
      "\n",
      "\n",
      "At random state 58,the training accuracy is:- 0.3804559687384299\n",
      "At random state 58,the testing accuracy is:- 0.3308281518181051\n",
      "\n",
      "\n",
      "At random state 59,the training accuracy is:- 0.39621255224544105\n",
      "At random state 59,the testing accuracy is:- 0.23674695702087245\n",
      "\n",
      "\n",
      "At random state 60,the training accuracy is:- 0.39605618182659785\n",
      "At random state 60,the testing accuracy is:- 0.26122554901214723\n",
      "\n",
      "\n",
      "At random state 61,the training accuracy is:- 0.3635067845614457\n",
      "At random state 61,the testing accuracy is:- 0.4063961270394538\n",
      "\n",
      "\n",
      "At random state 62,the training accuracy is:- 0.37840209626360666\n",
      "At random state 62,the testing accuracy is:- 0.33967351880800833\n",
      "\n",
      "\n",
      "At random state 63,the training accuracy is:- 0.39987668196226644\n",
      "At random state 63,the testing accuracy is:- 0.27699723065064696\n",
      "\n",
      "\n",
      "At random state 64,the training accuracy is:- 0.3896358749210128\n",
      "At random state 64,the testing accuracy is:- 0.2525486302015366\n",
      "\n",
      "\n",
      "At random state 65,the training accuracy is:- 0.36328659059317503\n",
      "At random state 65,the testing accuracy is:- 0.4102290184417181\n",
      "\n",
      "\n",
      "At random state 66,the training accuracy is:- 0.4034902759745138\n",
      "At random state 66,the testing accuracy is:- 0.20954344391382673\n",
      "\n",
      "\n",
      "At random state 67,the training accuracy is:- 0.3838619843348653\n",
      "At random state 67,the testing accuracy is:- 0.30788630441270737\n",
      "\n",
      "\n",
      "At random state 68,the training accuracy is:- 0.38321181227679\n",
      "At random state 68,the testing accuracy is:- 0.3081622771953262\n",
      "\n",
      "\n",
      "At random state 69,the training accuracy is:- 0.3575032427107008\n",
      "At random state 69,the testing accuracy is:- 0.41807076920597763\n",
      "\n",
      "\n",
      "At random state 70,the training accuracy is:- 0.3523699935403566\n",
      "At random state 70,the testing accuracy is:- 0.44405897077581613\n",
      "\n",
      "\n",
      "At random state 71,the training accuracy is:- 0.3569422605751432\n",
      "At random state 71,the testing accuracy is:- 0.4456669172183455\n",
      "\n",
      "\n",
      "At random state 72,the training accuracy is:- 0.37770478576076294\n",
      "At random state 72,the testing accuracy is:- 0.32347989172179004\n",
      "\n",
      "\n",
      "At random state 73,the training accuracy is:- 0.37527451052672434\n",
      "At random state 73,the testing accuracy is:- 0.3753641749729416\n",
      "\n",
      "\n",
      "At random state 74,the training accuracy is:- 0.38796638596612754\n",
      "At random state 74,the testing accuracy is:- 0.31702059888445766\n",
      "\n",
      "\n",
      "At random state 75,the training accuracy is:- 0.3885503879716644\n",
      "At random state 75,the testing accuracy is:- 0.30285292585813883\n",
      "\n",
      "\n",
      "At random state 76,the training accuracy is:- 0.38638178216418906\n",
      "At random state 76,the testing accuracy is:- 0.30314710147162494\n",
      "\n",
      "\n",
      "At random state 77,the training accuracy is:- 0.3799862955866856\n",
      "At random state 77,the testing accuracy is:- 0.3389683583816675\n",
      "\n",
      "\n",
      "At random state 78,the training accuracy is:- 0.38467920294733704\n",
      "At random state 78,the testing accuracy is:- 0.31476081020506985\n",
      "\n",
      "\n",
      "At random state 79,the training accuracy is:- 0.3582205654942684\n",
      "At random state 79,the testing accuracy is:- 0.420061979054858\n",
      "\n",
      "\n",
      "At random state 80,the training accuracy is:- 0.3501573730805051\n",
      "At random state 80,the testing accuracy is:- 0.47369357116985555\n",
      "\n",
      "\n",
      "At random state 81,the training accuracy is:- 0.3817831726074751\n",
      "At random state 81,the testing accuracy is:- 0.34978273499947854\n",
      "\n",
      "\n",
      "At random state 82,the training accuracy is:- 0.39804863357368026\n",
      "At random state 82,the testing accuracy is:- 0.2366512461176178\n",
      "\n",
      "\n",
      "At random state 83,the training accuracy is:- 0.3967253155177699\n",
      "At random state 83,the testing accuracy is:- 0.2852816031346542\n",
      "\n",
      "\n",
      "At random state 84,the training accuracy is:- 0.3620615889499441\n",
      "At random state 84,the testing accuracy is:- 0.41603085533870376\n",
      "\n",
      "\n",
      "At random state 85,the training accuracy is:- 0.37587688804309527\n",
      "At random state 85,the testing accuracy is:- 0.3597954319530262\n",
      "\n",
      "\n",
      "At random state 86,the training accuracy is:- 0.3711106160823976\n",
      "At random state 86,the testing accuracy is:- 0.384546269915819\n",
      "\n",
      "\n"
     ]
    },
    {
     "name": "stdout",
     "output_type": "stream",
     "text": [
      "At random state 87,the training accuracy is:- 0.393821894229303\n",
      "At random state 87,the testing accuracy is:- 0.21648160388212678\n",
      "\n",
      "\n",
      "At random state 88,the training accuracy is:- 0.36774729078802515\n",
      "At random state 88,the testing accuracy is:- 0.3818731495787152\n",
      "\n",
      "\n",
      "At random state 89,the training accuracy is:- 0.3634426546490577\n",
      "At random state 89,the testing accuracy is:- 0.4270089176419227\n",
      "\n",
      "\n",
      "At random state 90,the training accuracy is:- 0.3703592880498774\n",
      "At random state 90,the testing accuracy is:- 0.3766861117336061\n",
      "\n",
      "\n",
      "At random state 91,the training accuracy is:- 0.37263725671069314\n",
      "At random state 91,the testing accuracy is:- 0.3661959842432755\n",
      "\n",
      "\n",
      "At random state 92,the training accuracy is:- 0.3724322546217099\n",
      "At random state 92,the testing accuracy is:- 0.3593828189138828\n",
      "\n",
      "\n",
      "At random state 93,the training accuracy is:- 0.3983867459865468\n",
      "At random state 93,the testing accuracy is:- 0.26622460266231773\n",
      "\n",
      "\n",
      "At random state 94,the training accuracy is:- 0.3666227922542721\n",
      "At random state 94,the testing accuracy is:- 0.3994094284577001\n",
      "\n",
      "\n",
      "At random state 95,the training accuracy is:- 0.3840419391519825\n",
      "At random state 95,the testing accuracy is:- 0.3135576922575073\n",
      "\n",
      "\n",
      "At random state 96,the training accuracy is:- 0.381772034406361\n",
      "At random state 96,the testing accuracy is:- 0.3463849833567567\n",
      "\n",
      "\n",
      "At random state 97,the training accuracy is:- 0.3620857068284924\n",
      "At random state 97,the testing accuracy is:- 0.43155691075965674\n",
      "\n",
      "\n",
      "At random state 98,the training accuracy is:- 0.378848298217475\n",
      "At random state 98,the testing accuracy is:- 0.35953771639078547\n",
      "\n",
      "\n",
      "At random state 99,the training accuracy is:- 0.4027992486421902\n",
      "At random state 99,the testing accuracy is:- 0.25231983400600544\n",
      "\n",
      "\n"
     ]
    }
   ],
   "source": [
    "#using Linear Regression\n",
    "for i in range(0,100):\n",
    "    x_train,x_test,y_train,y_test=train_test_split(x,y,test_size=0.2,random_state=i)\n",
    "    lr.fit(x_train,y_train)\n",
    "    pred_train=lr.predict(x_train)\n",
    "    pred_test=lr.predict(x_test)\n",
    "    print(f\"At random state {i},the training accuracy is:- {r2_score(y_train,pred_train)}\")\n",
    "    print(f\"At random state {i},the testing accuracy is:- {r2_score(y_test,pred_test)}\")\n",
    "    print(\"\\n\")"
   ]
  },
  {
   "cell_type": "markdown",
   "id": "14fee0aa",
   "metadata": {},
   "source": [
    "# Cross Validation of the model:"
   ]
  },
  {
   "cell_type": "code",
   "execution_count": 38,
   "id": "5c53cb96",
   "metadata": {
    "scrolled": true
   },
   "outputs": [
    {
     "name": "stdout",
     "output_type": "stream",
     "text": [
      "At cross fold 2 the cv score is 0.31453262412749144 and accuracy score for training is 0.4027992486421902 and accuracy for the testing is 0.25231983400600544\n",
      "\n",
      "\n",
      "At cross fold 3 the cv score is 0.32346692009413214 and accuracy score for training is 0.4027992486421902 and accuracy for the testing is 0.25231983400600544\n",
      "\n",
      "\n",
      "At cross fold 4 the cv score is 0.3175538116007026 and accuracy score for training is 0.4027992486421902 and accuracy for the testing is 0.25231983400600544\n",
      "\n",
      "\n",
      "At cross fold 5 the cv score is 0.29792011789112294 and accuracy score for training is 0.4027992486421902 and accuracy for the testing is 0.25231983400600544\n",
      "\n",
      "\n",
      "At cross fold 6 the cv score is 0.33534910589990935 and accuracy score for training is 0.4027992486421902 and accuracy for the testing is 0.25231983400600544\n",
      "\n",
      "\n",
      "At cross fold 7 the cv score is 0.3280387003144267 and accuracy score for training is 0.4027992486421902 and accuracy for the testing is 0.25231983400600544\n",
      "\n",
      "\n",
      "At cross fold 8 the cv score is 0.33379792043891054 and accuracy score for training is 0.4027992486421902 and accuracy for the testing is 0.25231983400600544\n",
      "\n",
      "\n",
      "At cross fold 9 the cv score is 0.3069879614472464 and accuracy score for training is 0.4027992486421902 and accuracy for the testing is 0.25231983400600544\n",
      "\n",
      "\n",
      "At cross fold 10 the cv score is 0.3276435412284842 and accuracy score for training is 0.4027992486421902 and accuracy for the testing is 0.25231983400600544\n",
      "\n",
      "\n",
      "At cross fold 11 the cv score is 0.3071313202205271 and accuracy score for training is 0.4027992486421902 and accuracy for the testing is 0.25231983400600544\n",
      "\n",
      "\n",
      "At cross fold 12 the cv score is 0.32769786424130765 and accuracy score for training is 0.4027992486421902 and accuracy for the testing is 0.25231983400600544\n",
      "\n",
      "\n",
      "At cross fold 13 the cv score is 0.32317565120729796 and accuracy score for training is 0.4027992486421902 and accuracy for the testing is 0.25231983400600544\n",
      "\n",
      "\n",
      "At cross fold 14 the cv score is 0.33005076643623926 and accuracy score for training is 0.4027992486421902 and accuracy for the testing is 0.25231983400600544\n",
      "\n",
      "\n",
      "At cross fold 15 the cv score is 0.29493461799785964 and accuracy score for training is 0.4027992486421902 and accuracy for the testing is 0.25231983400600544\n",
      "\n",
      "\n",
      "At cross fold 16 the cv score is 0.27557372972305894 and accuracy score for training is 0.4027992486421902 and accuracy for the testing is 0.25231983400600544\n",
      "\n",
      "\n",
      "At cross fold 17 the cv score is 0.2993763633845656 and accuracy score for training is 0.4027992486421902 and accuracy for the testing is 0.25231983400600544\n",
      "\n",
      "\n",
      "At cross fold 18 the cv score is 0.2792018531117544 and accuracy score for training is 0.4027992486421902 and accuracy for the testing is 0.25231983400600544\n",
      "\n",
      "\n",
      "At cross fold 19 the cv score is 0.31720015460156437 and accuracy score for training is 0.4027992486421902 and accuracy for the testing is 0.25231983400600544\n",
      "\n",
      "\n"
     ]
    }
   ],
   "source": [
    "Train_accuracy=r2_score(y_train,pred_train)\n",
    "Test_accuracy=r2_score(y_test,pred_test)\n",
    "\n",
    "from sklearn.model_selection import cross_val_score\n",
    "for j in range(2,20):\n",
    "    cv_score=cross_val_score(lr,x,y,cv=j)\n",
    "    cv_mean=cv_score.mean()\n",
    "    print(f\"At cross fold {j} the cv score is {cv_mean} and accuracy score for training is {Train_accuracy} and accuracy for the testing is {Test_accuracy}\")\n",
    "    print(\"\\n\")"
   ]
  },
  {
   "cell_type": "markdown",
   "id": "9bb39ce6",
   "metadata": {},
   "source": [
    "# Regularization"
   ]
  },
  {
   "cell_type": "code",
   "execution_count": 39,
   "id": "c1f1407d",
   "metadata": {
    "scrolled": true
   },
   "outputs": [],
   "source": [
    "from sklearn.model_selection import GridSearchCV #used to maximize the performance of model\n",
    "from sklearn.model_selection import cross_val_score\n",
    "import warnings\n",
    "warnings.filterwarnings('ignore')"
   ]
  },
  {
   "cell_type": "code",
   "execution_count": 40,
   "id": "c1d29ceb",
   "metadata": {
    "scrolled": true
   },
   "outputs": [
    {
     "name": "stdout",
     "output_type": "stream",
     "text": [
      "{'alpha': 0.001, 'random_state': 0}\n"
     ]
    }
   ],
   "source": [
    "from sklearn.linear_model import Lasso\n",
    "parameters={'alpha':[0.0001,0.001,0.01,0.1,1,10], 'random_state':list(range(0,10))}\n",
    "ls=Lasso()\n",
    "clf= GridSearchCV(ls,parameters)\n",
    "clf.fit(x_train,y_train)\n",
    "\n",
    "print(clf.best_params_)"
   ]
  },
  {
   "cell_type": "code",
   "execution_count": 41,
   "id": "035a6668",
   "metadata": {
    "scrolled": true
   },
   "outputs": [
    {
     "name": "stdout",
     "output_type": "stream",
     "text": [
      "{'criterion': 'mae', 'max_features': 'sqrt'}\n"
     ]
    }
   ],
   "source": [
    "from sklearn.model_selection import GridSearchCV\n",
    "from sklearn.ensemble import RandomForestRegressor\n",
    "\n",
    "parameters = {'criterion':['mse','mae'],'max_features':['auto','sqrt','log2']}\n",
    "\n",
    "# here we are using two parameter but it is mandatory to use atleast 4 parameters\n",
    "rf = RandomForestRegressor()\n",
    "clf= GridSearchCV(rf,parameters)\n",
    "clf.fit(x_train, y_train)\n",
    "\n",
    "print(clf.best_params_)"
   ]
  },
  {
   "cell_type": "code",
   "execution_count": 42,
   "id": "d9f361fd",
   "metadata": {
    "scrolled": true
   },
   "outputs": [
    {
     "name": "stdout",
     "output_type": "stream",
     "text": [
      "R2 Score: 28.649434495934468\n",
      "Cross Val Score: 28.598808041646993\n"
     ]
    }
   ],
   "source": [
    "rf = RandomForestRegressor(criterion=\"mae\", max_features='sqrt')\n",
    "rf.fit(x_train, y_train)\n",
    "rf.score(x_train, y_train)\n",
    "pred_decision = rf.predict(x_test)\n",
    "\n",
    "rfs= r2_score(y_test,pred_decision)\n",
    "print('R2 Score:', rfs*100)\n",
    "\n",
    "rfscore = cross_val_score(rf,x,y,cv=5)\n",
    "rfc=rfscore.mean()\n",
    "print('Cross Val Score:', rfc*100)"
   ]
  },
  {
   "cell_type": "code",
   "execution_count": 43,
   "id": "16a9c3fd",
   "metadata": {},
   "outputs": [],
   "source": [
    "import pickle\n",
    "filename= 'salary.pkl'\n",
    "pickle.dump(rfs,open(filename, 'wb'))"
   ]
  },
  {
   "cell_type": "code",
   "execution_count": null,
   "id": "1ee73ae1",
   "metadata": {},
   "outputs": [],
   "source": []
  },
  {
   "cell_type": "code",
   "execution_count": null,
   "id": "63fe15d8",
   "metadata": {},
   "outputs": [],
   "source": []
  },
  {
   "cell_type": "code",
   "execution_count": null,
   "id": "5876756e",
   "metadata": {},
   "outputs": [],
   "source": []
  },
  {
   "cell_type": "code",
   "execution_count": null,
   "id": "ee935283",
   "metadata": {},
   "outputs": [],
   "source": []
  },
  {
   "cell_type": "code",
   "execution_count": null,
   "id": "20b3c1df",
   "metadata": {},
   "outputs": [],
   "source": []
  },
  {
   "cell_type": "code",
   "execution_count": null,
   "id": "2b3b7d3b",
   "metadata": {},
   "outputs": [],
   "source": []
  },
  {
   "cell_type": "code",
   "execution_count": null,
   "id": "eab053da",
   "metadata": {},
   "outputs": [],
   "source": []
  }
 ],
 "metadata": {
  "kernelspec": {
   "display_name": "Python 3 (ipykernel)",
   "language": "python",
   "name": "python3"
  },
  "language_info": {
   "codemirror_mode": {
    "name": "ipython",
    "version": 3
   },
   "file_extension": ".py",
   "mimetype": "text/x-python",
   "name": "python",
   "nbconvert_exporter": "python",
   "pygments_lexer": "ipython3",
   "version": "3.9.7"
  }
 },
 "nbformat": 4,
 "nbformat_minor": 5
}
